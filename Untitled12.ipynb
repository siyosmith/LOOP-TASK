{
  "nbformat": 4,
  "nbformat_minor": 0,
  "metadata": {
    "colab": {
      "provenance": [],
      "authorship_tag": "ABX9TyNaoKnr2uEOkBhvClMlj1Is",
      "include_colab_link": true
    },
    "kernelspec": {
      "name": "python3",
      "display_name": "Python 3"
    },
    "language_info": {
      "name": "python"
    }
  },
  "cells": [
    {
      "cell_type": "markdown",
      "metadata": {
        "id": "view-in-github",
        "colab_type": "text"
      },
      "source": [
        "<a href=\"https://colab.research.google.com/github/siyosmith/LOOP-TASK/blob/main/Untitled12.ipynb\" target=\"_parent\"><img src=\"https://colab.research.google.com/assets/colab-badge.svg\" alt=\"Open In Colab\"/></a>"
      ]
    },
    {
      "cell_type": "code",
      "execution_count": null,
      "metadata": {
        "colab": {
          "base_uri": "https://localhost:8080/"
        },
        "id": "UxVNOJBeVrut",
        "outputId": "8e386b56-10db-4365-94e6-7bbf4011d0fa"
      },
      "outputs": [
        {
          "name": "stdout",
          "output_type": "stream",
          "text": [
            "enter first number:5\n",
            "enter second number:6\n"
          ]
        },
        {
          "output_type": "execute_result",
          "data": {
            "text/plain": [
              "11"
            ]
          },
          "metadata": {},
          "execution_count": 5
        }
      ],
      "source": [
        "x=int(input('enter first number:'))\n",
        "y=int(input('enter second number:'))\n",
        "sum=x+y\n",
        "sum"
      ]
    },
    {
      "cell_type": "code",
      "source": [
        "#largest num among three num\n",
        "x=float(input('enter 1 number:'))\n",
        "y=float(input('enter 2 number:'))\n",
        "z=float(input('enter 3 number:'))\n",
        "max(x,y,z)"
      ],
      "metadata": {
        "colab": {
          "base_uri": "https://localhost:8080/"
        },
        "id": "GI0m8vf2XN5p",
        "outputId": "6f026941-0bcb-4beb-a410-780e44dda005"
      },
      "execution_count": null,
      "outputs": [
        {
          "name": "stdout",
          "output_type": "stream",
          "text": [
            "enter 1 number:7\n",
            "enter 2 number:3\n",
            "enter 3 number:5\n"
          ]
        },
        {
          "output_type": "execute_result",
          "data": {
            "text/plain": [
              "7.0"
            ]
          },
          "metadata": {},
          "execution_count": 6
        }
      ]
    },
    {
      "cell_type": "code",
      "source": [
        "#check +,-or0\n",
        "num=int(input('enter a number:'))\n",
        "if num<0:\n",
        "  print('num is negative')\n",
        "elif num==0:\n",
        "    print('num is zero')\n",
        "else:\n",
        "    print('num is positive')\n"
      ],
      "metadata": {
        "id": "cipHHuikXlRr",
        "colab": {
          "base_uri": "https://localhost:8080/"
        },
        "outputId": "377222e9-68e0-4b3a-d2b0-38acd0cf7272"
      },
      "execution_count": null,
      "outputs": [
        {
          "output_type": "stream",
          "name": "stdout",
          "text": [
            "enter a number:5\n",
            "num is positive\n"
          ]
        }
      ]
    },
    {
      "cell_type": "code",
      "source": [
        "#check leap year or not\n",
        "year=int(input('enter a year'))\n",
        "if year%4==0:\n",
        "  print('year is a leap year')\n",
        "else:\n",
        "  print('year is not a leap year')"
      ],
      "metadata": {
        "colab": {
          "base_uri": "https://localhost:8080/"
        },
        "id": "gqESzowI8YvP",
        "outputId": "8a75af8e-66e3-46d7-f435-1396f597f882"
      },
      "execution_count": null,
      "outputs": [
        {
          "output_type": "stream",
          "name": "stdout",
          "text": [
            "enter a year1989\n",
            "year is not a leap year\n"
          ]
        }
      ]
    },
    {
      "cell_type": "code",
      "source": [
        "#check even or odd\n",
        "num=int(input('enter a num'))\n",
        "if num%2==0:\n",
        "  print('num is even')\n",
        "else:\n",
        "  print('num is odd')"
      ],
      "metadata": {
        "colab": {
          "base_uri": "https://localhost:8080/"
        },
        "id": "rco371yR-AtS",
        "outputId": "209700e4-2cb1-46f9-8ae6-5335e8606732"
      },
      "execution_count": null,
      "outputs": [
        {
          "output_type": "stream",
          "name": "stdout",
          "text": [
            "enter a num3\n",
            "num is odd\n"
          ]
        }
      ]
    },
    {
      "cell_type": "code",
      "source": [
        "# check smallest and largest num\n",
        "nums=[5,7,8.9]\n",
        "a=max(nums)\n",
        "b=min(nums)\n",
        "print(f'max is {a}')\n",
        "print(f'min is {b}')"
      ],
      "metadata": {
        "colab": {
          "base_uri": "https://localhost:8080/"
        },
        "id": "Tu7OaqtlHOcG",
        "outputId": "2212f2f9-df49-40cc-b3bd-6f132b5102e0"
      },
      "execution_count": null,
      "outputs": [
        {
          "output_type": "stream",
          "name": "stdout",
          "text": [
            "max is 8.9\n",
            "min is 5\n"
          ]
        }
      ]
    },
    {
      "cell_type": "code",
      "source": [
        "#check century year or not\n",
        "year=int(input('enter a year:'))\n",
        "if year%100==0:\n",
        "  print('year is a century year ')\n",
        "else:\n",
        "  print('year is not a century year ')\n"
      ],
      "metadata": {
        "colab": {
          "base_uri": "https://localhost:8080/"
        },
        "id": "n3KTyUMaBjcV",
        "outputId": "2607b5c4-0621-4b30-c26c-52583bc97c98"
      },
      "execution_count": null,
      "outputs": [
        {
          "output_type": "stream",
          "name": "stdout",
          "text": [
            "enter a year:1990\n",
            "year is not a century year \n"
          ]
        }
      ]
    },
    {
      "cell_type": "code",
      "source": [
        "#check num is perfect cube or not\n",
        "num=int(input('enter a num:'))\n",
        "cube=num**(1/3)\n",
        "if cube**3==num:\n",
        "  print('num is a perfect cube')\n",
        "else:\n",
        "  print('num is not a perfect cube')"
      ],
      "metadata": {
        "colab": {
          "base_uri": "https://localhost:8080/"
        },
        "id": "C2URVdwPDdMh",
        "outputId": "88e64147-c31e-4c78-a868-18000607fc8c"
      },
      "execution_count": null,
      "outputs": [
        {
          "output_type": "stream",
          "name": "stdout",
          "text": [
            "enter a num:8\n",
            "num is a perfect cube\n"
          ]
        }
      ]
    },
    {
      "cell_type": "code",
      "source": [
        "#check vowel or not\n",
        "char=str(input('enter a character:' ))\n",
        "if char=='a' or char=='e' or char=='o' or char=='u'or char=='i':\n",
        "  print('char is a vowel')\n",
        "else:\n",
        "  print('char is not a vowel')"
      ],
      "metadata": {
        "colab": {
          "base_uri": "https://localhost:8080/"
        },
        "id": "gYQUef0qItg8",
        "outputId": "4e7163e2-5df5-4cef-fa71-16cdc3a53b60"
      },
      "execution_count": null,
      "outputs": [
        {
          "output_type": "stream",
          "name": "stdout",
          "text": [
            "enter a characterb\n",
            "char is not a vowel\n"
          ]
        }
      ]
    },
    {
      "cell_type": "code",
      "source": [
        "#check power of two\n",
        "num=int(input('enter a num:'))\n",
        "power=num**(1/2)\n",
        "if power%2==0:\n",
        "  print('num is power of two')\n",
        "else:\n",
        "  print('num is not a power of two')"
      ],
      "metadata": {
        "colab": {
          "base_uri": "https://localhost:8080/"
        },
        "id": "HsmrnYKUJ8vc",
        "outputId": "5e0a23cf-1646-4f0b-f9c2-b5b3a60f7891"
      },
      "execution_count": null,
      "outputs": [
        {
          "output_type": "stream",
          "name": "stdout",
          "text": [
            "enter a num:9\n",
            "num is not a power of two\n"
          ]
        }
      ]
    },
    {
      "cell_type": "code",
      "source": [
        "char=str(input('enter a char:'))\n",
        "if char==char[::-1]:\n",
        "  print('char is a palindrome')\n",
        "else:\n",
        "  print('char is not a palindrome')"
      ],
      "metadata": {
        "colab": {
          "base_uri": "https://localhost:8080/"
        },
        "id": "1RxdwP_FMqyS",
        "outputId": "3e5a4175-d0dc-4481-92c1-ad87841e8bb0"
      },
      "execution_count": null,
      "outputs": [
        {
          "output_type": "stream",
          "name": "stdout",
          "text": [
            "enter a char:malayalam\n",
            "char is a palindrome\n"
          ]
        }
      ]
    },
    {
      "cell_type": "code",
      "source": [
        "temp_in_cel=0\n",
        "temp=(temp_in_cel*(9/5))+32\n",
        "print(f'temp in fahreheit {temp}')"
      ],
      "metadata": {
        "colab": {
          "base_uri": "https://localhost:8080/"
        },
        "id": "FxBov8OqOI3X",
        "outputId": "caee45e9-5e52-41d0-eeb2-8dd472ae0f12"
      },
      "execution_count": null,
      "outputs": [
        {
          "output_type": "stream",
          "name": "stdout",
          "text": [
            "temp in fahreheit 32.0\n"
          ]
        }
      ]
    }
  ]
}